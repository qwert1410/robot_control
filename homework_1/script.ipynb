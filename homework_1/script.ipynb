{
 "cells": [
  {
   "cell_type": "code",
   "execution_count": 9,
   "metadata": {},
   "outputs": [],
   "source": [
    "import pandas as pd\n",
    "import numpy as np\n",
    "import cv2\n",
    "import glob\n",
    "import os\n",
    "import matplotlib.pyplot as plt\n",
    "from cv2 import aruco"
   ]
  },
  {
   "cell_type": "code",
   "execution_count": 2,
   "metadata": {},
   "outputs": [],
   "source": [
    "calibration_images_path = os.path.join(os.getcwd(), \"calibration\", \"img*.png\")\n",
    "images = glob.glob(calibration_images_path)"
   ]
  },
  {
   "cell_type": "code",
   "execution_count": 3,
   "metadata": {},
   "outputs": [],
   "source": [
    "aruco_dict = aruco.getPredefinedDictionary(aruco.DICT_APRILTAG_16h5)\n",
    "detectorParams = aruco.DetectorParameters()\n",
    "detectorParams.cornerRefinementMethod = aruco.CORNER_REFINE_CONTOUR\n",
    "detector = aruco.ArucoDetector(aruco_dict, detectorParams)"
   ]
  },
  {
   "cell_type": "code",
   "execution_count": null,
   "metadata": {},
   "outputs": [],
   "source": [
    "marker_size = 0.168\n",
    "marker_gap = 0.007\n",
    "\n",
    "step_size = marker_size + marker_gap\n",
    "\n",
    "\n",
    "top_left = [0, 0, 0]\n",
    "\n",
    "aruco_marker = [\n",
    "    [top_left[0], top_left[1] + marker_size, 0],    \n",
    "    top_left,\n",
    "    [top_left[0] + marker_size, top_left[1], 0],         \n",
    "    [top_left[0] + marker_size, top_left[1] + marker_size, 0],   \n",
    "]\n",
    "\n",
    "\n",
    "aruco_marker = np.array(aruco_marker, dtype=np.float32)\n",
    "\n",
    "\n",
    "aruco_board = []\n",
    "for x in range(3):\n",
    "    for y in range(2):    \n",
    "        top_left = [x * step_size, y * step_size, 0]\n",
    "        \n",
    "        corners_3d = [\n",
    "            [top_left[0], top_left[1] + marker_size, 0],\n",
    "            top_left,\n",
    "            [top_left[0] + marker_size, top_left[1], 0],         \n",
    "            [top_left[0] + marker_size, top_left[1] + marker_size, 0],        \n",
    "        ]\n",
    "        \n",
    "        aruco_board.extend(corners_3d)\n",
    "\n",
    "aruco_board = np.array(aruco_board, dtype=np.float32)\n"
   ]
  },
  {
   "cell_type": "markdown",
   "metadata": {},
   "source": [
    "## Task 1"
   ]
  },
  {
   "cell_type": "markdown",
   "metadata": {},
   "source": [
    "### One Marker"
   ]
  },
  {
   "cell_type": "code",
   "execution_count": 5,
   "metadata": {},
   "outputs": [],
   "source": [
    "objpoints = []\n",
    "imgpoints = []\n",
    "\n",
    "for image_path in images:\n",
    "    image = cv2.imread(image_path)\n",
    "    gray = cv2.cvtColor(image, cv2.COLOR_BGR2GRAY)\n",
    "    \n",
    "    corners, ids, _ = detector.detectMarkers(gray)\n",
    "    \n",
    "    if ids is not None and len(ids) > 0:\n",
    "        for marker in corners:\n",
    "            points = marker.reshape(-1, 1, 2)\n",
    "            points = points.astype('float32')\n",
    "            imgpoints.append(points)\n",
    "            objpoints.append(aruco_marker)\n",
    "\n",
    "# ret, mtx, dist, rvecs, tvecs = cv2.calibrateCamera(\n",
    "#     objpoints, imgpoints, gray.shape[::-1], None, None\n",
    "# )\n",
    "\n",
    "# for img in images:\n",
    "#     size = (img.shape[1], img.shape[0])\n",
    "\n",
    "#     alpha = 0.5\n",
    "#     rect_camera_matrix = cv2.getOptimalNewCameraMatrix(mtx, dist, size, alpha)[0]\n",
    "#     map1, map2 = cv2.initUndistortRectifyMap(mtx, dist, np.eye(3), rect_camera_matrix, size, cv2.CV_32FC1)\n",
    "\n",
    "#     rect_img0 = cv2.remap(img, map1, map2, cv2.INTER_LINEAR)\n",
    "\n",
    "#     cv2.imshow(cv2.hconcat([img, rect_img0]))\n",
    "#     cv2.waitKey(500)\n",
    "#     cv2.destroyAllWindows()"
   ]
  },
  {
   "cell_type": "markdown",
   "metadata": {},
   "source": [
    "### Big Board"
   ]
  },
  {
   "cell_type": "code",
   "execution_count": 38,
   "metadata": {},
   "outputs": [],
   "source": [
    "objpoints = []\n",
    "imgpoints = []\n",
    "\n",
    "for image_path in images:\n",
    "    image = cv2.imread(image_path)\n",
    "    gray = cv2.cvtColor(image, cv2.COLOR_BGR2GRAY)\n",
    "    \n",
    "    corners, ids, _ = detector.detectMarkers(gray)\n",
    "    \n",
    "    if ids is not None and len(ids) > 0:\n",
    "        points = np.array([])\n",
    "\n",
    "        for marker in corners:\n",
    "            points = np.append(points, marker)\n",
    "\n",
    "        points = points.reshape(-1, 1, 2)\n",
    "        points = points.astype('float32')\n",
    "        imgpoints.append(points)\n",
    "        objpoints.append(aruco_board)\n",
    "\n",
    "ret, mtx, dist, rvecs, tvecs = cv2.calibrateCamera(\n",
    "    objpoints, imgpoints, gray.shape[::-1], None, None\n",
    ")"
   ]
  },
  {
   "cell_type": "code",
   "execution_count": 39,
   "metadata": {},
   "outputs": [],
   "source": [
    "# import matplotlib.pyplot as plt\n",
    "# # plt.figure(figsize=(10, 8))\n",
    "# plt.scatter(points[:, 0, 0], points[:, 0,  1], color='blue', label='Points')\n",
    "# for idx, point in enumerate(points):\n",
    "#     x, y = point[0][0], point[0][1]\n",
    "#     plt.text(x, y, str(idx), fontsize=9, ha='right', color='red')\n",
    "\n",
    "# plt.xlabel('X Coordinate')\n",
    "# plt.ylabel('Y Coordinate')\n",
    "# plt.title('Scatter Plot of Points with Index Labels')\n",
    "# plt.grid(True)\n",
    "# plt.legend()\n",
    "# plt.show()\n",
    "\n",
    "# import matplotlib.pyplot as plt\n",
    "# # plt.figure(figsize=(10, 8))\n",
    "# plt.scatter(aruco_board[:, 0], aruco_board[:,  1], color='blue', label='Points')\n",
    "# for idx, point in enumerate(aruco_board):\n",
    "#     x, y = point[0], point[1]\n",
    "#     plt.text(x, y, str(idx), fontsize=9, ha='right', color='red')\n",
    "\n",
    "# plt.xlabel('X Coordinate')\n",
    "# plt.ylabel('Y Coordinate')\n",
    "# plt.title('Scatter Plot of Points with Index Labels')\n",
    "# plt.grid(True)\n",
    "# plt.legend()\n",
    "# plt.show()"
   ]
  },
  {
   "cell_type": "code",
   "execution_count": 40,
   "metadata": {},
   "outputs": [],
   "source": [
    "for img in images:\n",
    "    img = cv2.imread(img)\n",
    "    size = (img.shape[1], img.shape[0])\n",
    "\n",
    "    alpha = 0.5\n",
    "    rect_camera_matrix = cv2.getOptimalNewCameraMatrix(mtx, dist, size, alpha)[0]\n",
    "    map1, map2 = cv2.initUndistortRectifyMap(mtx, dist, np.eye(3), rect_camera_matrix, size, cv2.CV_32FC1)\n",
    "\n",
    "    rect_img0 = cv2.remap(img, map1, map2, cv2.INTER_LINEAR)\n",
    "\n",
    "    cv2.imshow('Obrazki', cv2.hconcat([img, rect_img0]))\n",
    "    cv2.waitKey(1000)\n",
    "    cv2.destroyAllWindows()"
   ]
  },
  {
   "cell_type": "markdown",
   "metadata": {},
   "source": [
    "## Task 2"
   ]
  },
  {
   "cell_type": "code",
   "execution_count": null,
   "metadata": {},
   "outputs": [
    {
     "data": {
      "image/png": "[encoded data removed]",
      "text/plain": [
       "<Figure size 640x480 with 2 Axes>"
      ]
     },
     "metadata": {},
     "output_type": "display_data"
    }
   ],
   "source": [
    "\n",
    "\n",
    "def apply_projective_transform(image, H, output_size):\n",
    "    \"\"\"\n",
    "    Apply projective transformation to an image using a given homography matrix.\n",
    "\n",
    "    Parameters:\n",
    "    - image: Input image as a numpy array.\n",
    "    - H: 3x3 projective transformation matrix (homography).\n",
    "    - output_size: Tuple (width, height) for the output image size.\n",
    "\n",
    "    Returns:\n",
    "    - Transformed image as a numpy array.\n",
    "    \"\"\"\n",
    "    H_inv = np.linalg.inv(H)\n",
    "    \n",
    "    transformed_image = np.zeros((output_size[1], output_size[0], 3), dtype=image.dtype)\n",
    "    \n",
    "    for y in range(output_size[1]):\n",
    "        for x in range(output_size[0]):\n",
    "            dest_coord = np.array([x, y, 1])\n",
    "            \n",
    "            source_coord = H_inv @ dest_coord\n",
    "            source_x, source_y = source_coord[:2] / source_coord[2]\n",
    "            \n",
    "            source_x, source_y = int(round(source_x)), int(round(source_y))\n",
    "            \n",
    "            if 0 <= source_x < image.shape[1] and 0 <= source_y < image.shape[0]:\n",
    "                transformed_image[y, x] = image[source_y, source_x]\n",
    "    \n",
    "    return transformed_image\n",
    "\n",
    "image = cv2.imread(images[0])\n",
    "\n",
    "H = np.array([\n",
    "    [0, 1, 0],\n",
    "    [1, 0, 0],\n",
    "    [0, 0, 1]\n",
    "])\n",
    "\n",
    "output_size = (image.shape[1], image.shape[0])\n",
    "\n",
    "transformed_image = apply_projective_transform(image, H, output_size)\n",
    "\n",
    "plt.subplot(1, 2, 1)\n",
    "plt.title(\"Original Image\")\n",
    "plt.imshow(cv2.cvtColor(image, cv2.COLOR_BGR2RGB))\n",
    "plt.axis(\"off\")\n",
    "\n",
    "plt.subplot(1, 2, 2)\n",
    "plt.title(\"Transformed Image\")\n",
    "plt.imshow(cv2.cvtColor(transformed_image, cv2.COLOR_BGR2RGB))\n",
    "plt.axis(\"off\")\n",
    "\n",
    "plt.show()\n"
   ]
  },
  {
   "cell_type": "markdown",
   "metadata": {},
   "source": [
    "## Task 3"
   ]
  },
  {
   "cell_type": "code",
   "execution_count": null,
   "metadata": {},
   "outputs": [
    {
     "name": "stdout",
     "output_type": "stream",
     "text": [
      "All tests passed!\n"
     ]
    }
   ],
   "source": [
    "import numpy as np\n",
    "\n",
    "def compute_homography(points_src, points_dst):\n",
    "    \"\"\"\n",
    "    Computes the homography matrix H such that points_dst ≈ H * points_src.\n",
    "    \n",
    "    Parameters:\n",
    "    - points_src: Nx2 array of source points.\n",
    "    - points_dst: Nx2 array of destination points.\n",
    "    \n",
    "    Returns:\n",
    "    - H: 3x3 homography matrix that maps points_src to points_dst.\n",
    "    \"\"\"\n",
    "    num_points = points_src.shape[0]\n",
    "    assert num_points == points_dst.shape[0] and num_points >= 4, \"At least 4 points are required.\"\n",
    "    \n",
    "    A = []\n",
    "    for i in range(num_points):\n",
    "        x, y = points_src[i]\n",
    "        u, v = points_dst[i]\n",
    "        \n",
    "        A.append([-x, -y, -1, 0, 0, 0, u * x, u * y, u])\n",
    "        A.append([0, 0, 0, -x, -y, -1, v * x, v * y, v])\n",
    "    \n",
    "    A = np.array(A)\n",
    "    \n",
    "    _, _, V = np.linalg.svd(A)\n",
    "    \n",
    "    H = V[-1, :].reshape(3, 3)\n",
    "    \n",
    "    return H / H[2, 2]\n",
    "def test_homography():\n",
    "    for _ in range(10):\n",
    "        H_true = np.random.rand(3, 3)\n",
    "        H_true[2, 2] = 1\n",
    "        \n",
    "        num_points = 8\n",
    "        points_src = np.random.rand(num_points, 2) * 100\n",
    "        points_src_homogeneous = np.hstack([points_src, np.ones((num_points, 1))])\n",
    "        \n",
    "        points_dst_homogeneous = (H_true @ points_src_homogeneous.T).T\n",
    "        points_dst = points_dst_homogeneous[:, :2] / points_dst_homogeneous[:, [2]]\n",
    "        \n",
    "        H_estimated = compute_homography(points_src, points_dst)\n",
    "        \n",
    "        H_true /= H_true[2, 2]\n",
    "        H_estimated /= H_estimated[2, 2]\n",
    "        \n",
    "        assert np.allclose(H_true, H_estimated, atol=1e-6), \"Homography estimation failed!\"\n",
    "    \n",
    "    print(\"All tests passed!\")\n",
    "\n",
    "test_homography()\n"
   ]
  },
  {
   "cell_type": "markdown",
   "metadata": {},
   "source": [
    "## Task 4"
   ]
  },
  {
   "cell_type": "code",
   "execution_count": 30,
   "metadata": {},
   "outputs": [
    {
     "name": "stdout",
     "output_type": "stream",
     "text": [
      "Clicked Coordinates: (801,278)\n",
      "Clicked Coordinates: (824,304)\n",
      "Clicked Coordinates: (849,289)\n",
      "Clicked Coordinates: (827,262)\n",
      "Clicked Coordinates: (855,520)\n",
      "Clicked Coordinates: (899,522)\n",
      "Clicked Coordinates: (896,483)\n",
      "Clicked Coordinates: (856,480)\n"
     ]
    },
    {
     "ename": "KeyboardInterrupt",
     "evalue": "",
     "output_type": "error",
     "traceback": [
      "\u001b[1;31m---------------------------------------------------------------------------\u001b[0m",
      "\u001b[1;31mKeyboardInterrupt\u001b[0m                         Traceback (most recent call last)",
      "Cell \u001b[1;32mIn[30], line 55\u001b[0m\n\u001b[0;32m     53\u001b[0m \u001b[38;5;28;01mwhile\u001b[39;00m \u001b[38;5;28;01mTrue\u001b[39;00m:\n\u001b[0;32m     54\u001b[0m     cv2\u001b[38;5;241m.\u001b[39mimshow(\u001b[38;5;124m'\u001b[39m\u001b[38;5;124mPoint Coordinates\u001b[39m\u001b[38;5;124m'\u001b[39m, displayed_img)\n\u001b[1;32m---> 55\u001b[0m     k \u001b[38;5;241m=\u001b[39m \u001b[43mcv2\u001b[49m\u001b[38;5;241;43m.\u001b[39;49m\u001b[43mwaitKey\u001b[49m\u001b[43m(\u001b[49m\u001b[38;5;241;43m1\u001b[39;49m\u001b[43m)\u001b[49m \u001b[38;5;241m&\u001b[39m \u001b[38;5;241m0xFF\u001b[39m\n\u001b[0;32m     57\u001b[0m     \u001b[38;5;28;01mif\u001b[39;00m k \u001b[38;5;241m==\u001b[39m \u001b[38;5;241m10\u001b[39m:  \u001b[38;5;66;03m# Enter key to exit\u001b[39;00m\n\u001b[0;32m     58\u001b[0m         \u001b[38;5;28;01mbreak\u001b[39;00m\n",
      "\u001b[1;31mKeyboardInterrupt\u001b[0m: "
     ]
    }
   ],
   "source": [
    "import cv2\n",
    "\n",
    "# Global variables for zoom and image position\n",
    "zoom_factor = 1.0\n",
    "img_position = (0, 0)  # Start at the top-left corner\n",
    "\n",
    "# Function to handle mouse events\n",
    "def click_event(event, x, y, flags, params):\n",
    "    global zoom_factor, img_position\n",
    "    \n",
    "    if event == cv2.EVENT_LBUTTONDOWN:\n",
    "        # Adjust x and y coordinates according to zoom and pan\n",
    "        zoomed_x = int((x + img_position[0]) / zoom_factor)\n",
    "        zoomed_y = int((y + img_position[1]) / zoom_factor)\n",
    "        print(f'Clicked Coordinates: ({zoomed_x},{zoomed_y})')\n",
    "\n",
    "        # Draw a small circle on the clicked point\n",
    "        cv2.circle(displayed_img, (x, y), 3, (0, 255, 255), -1)\n",
    "        cv2.imshow('Point Coordinates', displayed_img)\n",
    "\n",
    "def update_displayed_image():\n",
    "    \"\"\"Update the displayed image according to the current zoom and position.\"\"\"\n",
    "    global displayed_img, img_position\n",
    "    h, w = img.shape[:2]\n",
    "    new_w, new_h = int(w * zoom_factor), int(h * zoom_factor)\n",
    "    \n",
    "    # Resize image according to the zoom factor\n",
    "    resized_img = cv2.resize(img, (new_w, new_h), interpolation=cv2.INTER_LINEAR)\n",
    "    \n",
    "    # Create the region of interest (ROI) to display within the window boundaries\n",
    "    x, y = img_position\n",
    "    displayed_img = resized_img[y:y + h, x:x + w]\n",
    "\n",
    "# Function to handle keyboard events for zooming\n",
    "def zoom_in():\n",
    "    global zoom_factor\n",
    "    zoom_factor = min(zoom_factor + 0.1, 3.0)  # Max zoom limit at 3.0x\n",
    "    update_displayed_image()\n",
    "\n",
    "def zoom_out():\n",
    "    global zoom_factor\n",
    "    zoom_factor = max(zoom_factor - 0.1, 0.5)  # Min zoom limit at 0.5x\n",
    "    update_displayed_image()\n",
    "\n",
    "# Load the image\n",
    "img = cv2.imread('stitching/img8.png')\n",
    "displayed_img = img.copy()  # This will be the displayed image in the window\n",
    "\n",
    "# Set up the window and mouse callback\n",
    "cv2.namedWindow('Point Coordinates')\n",
    "cv2.setMouseCallback('Point Coordinates', click_event)\n",
    "\n",
    "while True:\n",
    "    cv2.imshow('Point Coordinates', displayed_img)\n",
    "    k = cv2.waitKey(1) & 0xFF\n",
    "    \n",
    "    if k == 10:  # Enter key to exit\n",
    "        break\n",
    "    elif k == ord('+'):  # '+' key to zoom in\n",
    "        zoom_in()\n",
    "    elif k == ord('-'):  # '-' key to zoom out\n",
    "        zoom_out()\n",
    "\n",
    "cv2.destroyAllWindows()\n"
   ]
  },
  {
   "cell_type": "code",
   "execution_count": 31,
   "metadata": {},
   "outputs": [
    {
     "name": "stdout",
     "output_type": "stream",
     "text": [
      "Clicked Coordinates: (883,275)\n",
      "Clicked Coordinates: (903,303)\n",
      "Clicked Coordinates: (932,288)\n",
      "Clicked Coordinates: (907,258)\n",
      "Clicked Coordinates: (940,521)\n",
      "Clicked Coordinates: (987,522)\n",
      "Clicked Coordinates: (984,484)\n",
      "Clicked Coordinates: (939,483)\n"
     ]
    },
    {
     "ename": "KeyboardInterrupt",
     "evalue": "",
     "output_type": "error",
     "traceback": [
      "\u001b[1;31m---------------------------------------------------------------------------\u001b[0m",
      "\u001b[1;31mKeyboardInterrupt\u001b[0m                         Traceback (most recent call last)",
      "Cell \u001b[1;32mIn[31], line 55\u001b[0m\n\u001b[0;32m     53\u001b[0m \u001b[38;5;28;01mwhile\u001b[39;00m \u001b[38;5;28;01mTrue\u001b[39;00m:\n\u001b[0;32m     54\u001b[0m     cv2\u001b[38;5;241m.\u001b[39mimshow(\u001b[38;5;124m'\u001b[39m\u001b[38;5;124mPoint Coordinates\u001b[39m\u001b[38;5;124m'\u001b[39m, displayed_img)\n\u001b[1;32m---> 55\u001b[0m     k \u001b[38;5;241m=\u001b[39m \u001b[43mcv2\u001b[49m\u001b[38;5;241;43m.\u001b[39;49m\u001b[43mwaitKey\u001b[49m\u001b[43m(\u001b[49m\u001b[38;5;241;43m1\u001b[39;49m\u001b[43m)\u001b[49m \u001b[38;5;241m&\u001b[39m \u001b[38;5;241m0xFF\u001b[39m\n\u001b[0;32m     57\u001b[0m     \u001b[38;5;28;01mif\u001b[39;00m k \u001b[38;5;241m==\u001b[39m \u001b[38;5;241m10\u001b[39m:  \u001b[38;5;66;03m# Enter key to exit\u001b[39;00m\n\u001b[0;32m     58\u001b[0m         \u001b[38;5;28;01mbreak\u001b[39;00m\n",
      "\u001b[1;31mKeyboardInterrupt\u001b[0m: "
     ]
    }
   ],
   "source": [
    "import cv2\n",
    "\n",
    "# Global variables for zoom and image position\n",
    "zoom_factor = 1.0\n",
    "img_position = (0, 0)  # Start at the top-left corner\n",
    "\n",
    "# Function to handle mouse events\n",
    "def click_event(event, x, y, flags, params):\n",
    "    global zoom_factor, img_position\n",
    "    \n",
    "    if event == cv2.EVENT_LBUTTONDOWN:\n",
    "        # Adjust x and y coordinates according to zoom and pan\n",
    "        zoomed_x = int((x + img_position[0]) / zoom_factor)\n",
    "        zoomed_y = int((y + img_position[1]) / zoom_factor)\n",
    "        print(f'Clicked Coordinates: ({zoomed_x},{zoomed_y})')\n",
    "\n",
    "        # Draw a small circle on the clicked point\n",
    "        cv2.circle(displayed_img, (x, y), 3, (0, 255, 255), -1)\n",
    "        cv2.imshow('Point Coordinates', displayed_img)\n",
    "\n",
    "def update_displayed_image():\n",
    "    \"\"\"Update the displayed image according to the current zoom and position.\"\"\"\n",
    "    global displayed_img, img_position\n",
    "    h, w = img.shape[:2]\n",
    "    new_w, new_h = int(w * zoom_factor), int(h * zoom_factor)\n",
    "    \n",
    "    # Resize image according to the zoom factor\n",
    "    resized_img = cv2.resize(img, (new_w, new_h), interpolation=cv2.INTER_LINEAR)\n",
    "    \n",
    "    # Create the region of interest (ROI) to display within the window boundaries\n",
    "    x, y = img_position\n",
    "    displayed_img = resized_img[y:y + h, x:x + w]\n",
    "\n",
    "# Function to handle keyboard events for zooming\n",
    "def zoom_in():\n",
    "    global zoom_factor\n",
    "    zoom_factor = min(zoom_factor + 0.1, 3.0)  # Max zoom limit at 3.0x\n",
    "    update_displayed_image()\n",
    "\n",
    "def zoom_out():\n",
    "    global zoom_factor\n",
    "    zoom_factor = max(zoom_factor - 0.1, 0.5)  # Min zoom limit at 0.5x\n",
    "    update_displayed_image()\n",
    "\n",
    "# Load the image\n",
    "img = cv2.imread('stitching/img9.png')\n",
    "displayed_img = img.copy()  # This will be the displayed image in the window\n",
    "\n",
    "# Set up the window and mouse callback\n",
    "cv2.namedWindow('Point Coordinates')\n",
    "cv2.setMouseCallback('Point Coordinates', click_event)\n",
    "\n",
    "while True:\n",
    "    cv2.imshow('Point Coordinates', displayed_img)\n",
    "    k = cv2.waitKey(1) & 0xFF\n",
    "    \n",
    "    if k == 10:  # Enter key to exit\n",
    "        break\n",
    "    elif k == ord('+'):  # '+' key to zoom in\n",
    "        zoom_in()\n",
    "    elif k == ord('-'):  # '-' key to zoom out\n",
    "        zoom_out()\n",
    "\n",
    "cv2.destroyAllWindows()\n"
   ]
  },
  {
   "cell_type": "code",
   "execution_count": 33,
   "metadata": {},
   "outputs": [],
   "source": [
    "img8_points = np.array([\n",
    "    [801,278], \n",
    "    [824,304], \n",
    "    [849,289], \n",
    "    [827,262], \n",
    "    [855,520], \n",
    "    [899,522], \n",
    "    [896,483],\n",
    "    [856,480]\n",
    "])\n",
    "\n",
    "img9_points = np.array([\n",
    "    [883,275], \n",
    "    [903,303], \n",
    "    [932,288], \n",
    "    [907,258], \n",
    "    [940,521], \n",
    "    [987,522], \n",
    "    [984,484],\n",
    "    [939,483]\n",
    "])"
   ]
  },
  {
   "cell_type": "code",
   "execution_count": 35,
   "metadata": {},
   "outputs": [
    {
     "data": {
      "text/plain": [
       "array([[-1.67177429e+00,  1.72677790e-01,  1.15312626e+03],\n",
       "       [-6.35394891e-01, -1.36812336e-01,  5.08130643e+02],\n",
       "       [-1.51056279e-03,  1.80277210e-04,  1.00000000e+00]])"
      ]
     },
     "execution_count": 35,
     "metadata": {},
     "output_type": "execute_result"
    }
   ],
   "source": [
    "H = compute_homography(img8_points, img9_points)\n",
    "\n",
    "H"
   ]
  },
  {
   "cell_type": "markdown",
   "metadata": {},
   "source": [
    "## Task 5"
   ]
  },
  {
   "cell_type": "code",
   "execution_count": 42,
   "metadata": {},
   "outputs": [],
   "source": [
    "img8 = cv2.imread(\"stitching/img8.png\")\n",
    "img9 = cv2.imread(\"stitching/img9.png\")\n",
    "\n",
    "height, width = img9.shape[:2]\n",
    "\n",
    "warped_img8 = cv2.warpPerspective(img8, H, (width, height))"
   ]
  },
  {
   "cell_type": "markdown",
   "metadata": {},
   "source": [
    "## Task 6"
   ]
  },
  {
   "cell_type": "code",
   "execution_count": null,
   "metadata": {},
   "outputs": [],
   "source": []
  },
  {
   "cell_type": "code",
   "execution_count": null,
   "metadata": {},
   "outputs": [],
   "source": []
  }
 ],
 "metadata": {
  "kernelspec": {
   "display_name": "Python 3",
   "language": "python",
   "name": "python3"
  },
  "language_info": {
   "codemirror_mode": {
    "name": "ipython",
    "version": 3
   },
   "file_extension": ".py",
   "mimetype": "text/x-python",
   "name": "python",
   "nbconvert_exporter": "python",
   "pygments_lexer": "ipython3",
   "version": "3.13.0"
  }
 },
 "nbformat": 4,
 "nbformat_minor": 2
}
