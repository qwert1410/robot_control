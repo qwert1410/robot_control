{
 "cells": [
  {
   "cell_type": "code",
   "execution_count": 1,
   "metadata": {},
   "outputs": [],
   "source": [
    "import pandas as pd\n",
    "import numpy as np\n",
    "import cv2\n",
    "import glob\n",
    "import os\n",
    "import matplotlib.pyplot as plt\n",
    "from cv2 import aruco"
   ]
  },
  {
   "cell_type": "code",
   "execution_count": 2,
   "metadata": {},
   "outputs": [],
   "source": [
    "calibration_images_path = os.path.join(os.getcwd(), \"calibration\", \"img*.png\")\n",
    "images = glob.glob(calibration_images_path)"
   ]
  },
  {
   "cell_type": "code",
   "execution_count": 3,
   "metadata": {},
   "outputs": [],
   "source": [
    "aruco_dict = aruco.getPredefinedDictionary(aruco.DICT_APRILTAG_16h5)\n",
    "detectorParams = aruco.DetectorParameters()\n",
    "detectorParams.cornerRefinementMethod = aruco.CORNER_REFINE_CONTOUR\n",
    "detector = aruco.ArucoDetector(aruco_dict, detectorParams)"
   ]
  },
  {
   "cell_type": "code",
   "execution_count": null,
   "metadata": {},
   "outputs": [],
   "source": [
    "marker_size = 168\n",
    "marker_gap = 70\n",
    "\n",
    "step_size = marker_size + marker_gap\n",
    "\n",
    "top_left = [0, 0, 0]\n",
    "\n",
    "aruco_marker = [\n",
    "    [top_left[0], top_left[1] + marker_size, 0],    \n",
    "    top_left,\n",
    "    [top_left[0] + marker_size, top_left[1], 0],         \n",
    "    [top_left[0] + marker_size, top_left[1] + marker_size, 0],   \n",
    "]\n",
    "aruco_marker = np.array(aruco_marker, dtype=np.float32)\n",
    "\n",
    "aruco_board = []\n",
    "for x in range(3):\n",
    "    for y in range(2):    \n",
    "        top_left = [x * step_size, (y) * step_size, 0]\n",
    "        \n",
    "        corners_3d = [\n",
    "            [top_left[0], top_left[1] + marker_size, 0],\n",
    "            top_left,\n",
    "            [top_left[0] + marker_size, top_left[1], 0],    \n",
    "            [top_left[0] + marker_size, top_left[1] + marker_size, 0],             \n",
    "        ]\n",
    "        \n",
    "        aruco_board.extend(corners_3d)\n",
    "aruco_board = np.array(aruco_board, dtype=np.float32)\n",
    "\n",
    "mapping = {\n",
    "    29:1,\n",
    "    28:0,\n",
    "    23:2,\n",
    "    18:4,\n",
    "    24:3,\n",
    "    19:5,\n",
    "}"
   ]
  },
  {
   "cell_type": "markdown",
   "metadata": {},
   "source": [
    "## Task 1"
   ]
  },
  {
   "cell_type": "markdown",
   "metadata": {},
   "source": [
    "### One Marker"
   ]
  },
  {
   "cell_type": "code",
   "execution_count": 5,
   "metadata": {},
   "outputs": [],
   "source": [
    "objpoints = []\n",
    "imgpoints = []\n",
    "\n",
    "for image_path in images:\n",
    "    image = cv2.imread(image_path)\n",
    "    gray = cv2.cvtColor(image, cv2.COLOR_BGR2GRAY)\n",
    "    \n",
    "    corners, ids, _ = detector.detectMarkers(gray)\n",
    "    \n",
    "    if ids is not None and len(ids) > 0:\n",
    "        for marker in corners:\n",
    "            points = marker.reshape(-1, 1, 2)\n",
    "            points = points.astype('float32')\n",
    "            imgpoints.append(points)\n",
    "            objpoints.append(aruco_marker)\n",
    "\n",
    "ret, mtx, dist, rvecs, tvecs = cv2.calibrateCamera(\n",
    "    objpoints, imgpoints, gray.shape[::-1], None, None\n",
    ")"
   ]
  },
  {
   "cell_type": "code",
   "execution_count": 10,
   "metadata": {},
   "outputs": [],
   "source": [
    "objpoints = []\n",
    "imgpoints = []\n",
    "\n",
    "for image_path in images:\n",
    "    image = cv2.imread(image_path)\n",
    "    \n",
    "    corners, ids, _ = detector.detectMarkers(image)\n",
    "    ids = ids.reshape(-1)\n",
    "    ids = [mapping[id] for id in ids]\n",
    "    \n",
    "    ord_corners = [None] * len(corners)\n",
    "    for i, pos in enumerate(ids):\n",
    "        ord_corners[pos] = corners[i]\n",
    "    corners = tuple(ord_corners)\n",
    "\n",
    "    points = np.array([])\n",
    "    for corner in corners:\n",
    "        marker = corner\n",
    "        points = np.append(points, marker)\n",
    "\n",
    "    points = points.reshape(-1, 1, 2)\n",
    "    points = points.astype('float32')\n",
    "    imgpoints.append(points)\n",
    "    objpoints.append(aruco_board)\n",
    "\n",
    "ret_board, mtx_board, dist_board, rvecs_board, tvecs_board = cv2.calibrateCamera(\n",
    "    objpoints, imgpoints, [1280, 720], None, None\n",
    ")"
   ]
  },
  {
   "cell_type": "code",
   "execution_count": 11,
   "metadata": {},
   "outputs": [
    {
     "data": {
      "text/plain": [
       "array([[914.46738401,   0.        , 661.940804  ],\n",
       "       [  0.        , 914.65289568, 359.50521074],\n",
       "       [  0.        ,   0.        ,   1.        ]])"
      ]
     },
     "execution_count": 11,
     "metadata": {},
     "output_type": "execute_result"
    }
   ],
   "source": [
    "mtx"
   ]
  },
  {
   "cell_type": "code",
   "execution_count": 12,
   "metadata": {},
   "outputs": [
    {
     "data": {
      "text/plain": [
       "array([[903.18747991,   0.        , 653.44621283],\n",
       "       [  0.        , 902.20803044, 355.05321437],\n",
       "       [  0.        ,   0.        ,   1.        ]])"
      ]
     },
     "execution_count": 12,
     "metadata": {},
     "output_type": "execute_result"
    }
   ],
   "source": [
    "mtx_board"
   ]
  },
  {
   "cell_type": "markdown",
   "metadata": {},
   "source": [
    "For our solution, we will proceed with the camera matrix based on 168 pictures. There are multiple reasons why. For once, we can calibrate the camera using 168 instead of 28 pictures. On top of that, using board populates the errors that are made because of the connection between different markers, which is omitted whenusing 6 different pictures for calibration. Last, but not least, the callibration is a non-linear task, so the more data, the better the results are."
   ]
  },
  {
   "cell_type": "code",
   "execution_count": 14,
   "metadata": {},
   "outputs": [],
   "source": [
    "# for img in images:\n",
    "#     size = (img.shape[1], img.shape[0])\n",
    "\n",
    "#     alpha = 0.5\n",
    "#     rect_camera_matrix = cv2.getOptimalNewCameraMatrix(mtx, dist, size, alpha)[0]\n",
    "#     map1, map2 = cv2.initUndistortRectifyMap(mtx, dist, np.eye(3), rect_camera_matrix, size, cv2.CV_32FC1)\n",
    "\n",
    "#     rect_img0 = cv2.remap(img, map1, map2, cv2.INTER_LINEAR)\n",
    "\n",
    "#     cv2.imshow(cv2.hconcat([img, rect_img0]))\n",
    "#     cv2.waitKey(500)\n",
    "#     cv2.destroyAllWindows()"
   ]
  },
  {
   "cell_type": "code",
   "execution_count": 15,
   "metadata": {},
   "outputs": [],
   "source": [
    "# for img_path in images:\n",
    "#     img = cv2.imread(img_path)\n",
    "#     size = (img.shape[1], img.shape[0])\n",
    "\n",
    "#     alpha = 0.5\n",
    "#     rect_camera_matrix = cv2.getOptimalNewCameraMatrix(mtx, dist, size, alpha)[0]\n",
    "#     map1, map2 = cv2.initUndistortRectifyMap(mtx, dist, np.eye(3), rect_camera_matrix, size, cv2.CV_32FC1)\n",
    "\n",
    "#     und_img = cv2.remap(img, map1, map2, cv2.INTER_LINEAR)\n",
    "#     und_img = cv2.resize(und_img, (1280,720))\n",
    "    \n",
    "#     img_small = cv2.resize(img, (0, 0), None, 0.5, 0.5)\n",
    "#     und_img_small = cv2.resize(und_img, (0, 0), None, 0.5, 0.5)\n",
    "#     imstack = np.hstack([img_small, und_img_small])\n",
    "#     cv2.imshow('Obrazki', imstack)\n",
    "#     cv2.waitKey(500)\n",
    "#     cv2.destroyAllWindows()"
   ]
  },
  {
   "cell_type": "code",
   "execution_count": 16,
   "metadata": {},
   "outputs": [],
   "source": [
    "calibration_images_path = os.path.join(os.getcwd(), \"stitching\", \"img*.png\")\n",
    "images = glob.glob(calibration_images_path)\n",
    "\n",
    "for img_path in images:\n",
    "    img = cv2.imread(img_path)\n",
    "    size = (img.shape[1], img.shape[0])\n",
    "\n",
    "    alpha = 0.\n",
    "    rect_camera_matrix = cv2.getOptimalNewCameraMatrix(mtx, dist, size, alpha)[0]\n",
    "    map1, map2 = cv2.initUndistortRectifyMap(mtx, dist, np.eye(3), rect_camera_matrix, size, cv2.CV_32FC1)\n",
    "\n",
    "    und_image = cv2.remap(img, map1, map2, cv2.INTER_LINEAR)\n",
    "    img_name = img_path.split('\\\\')[-1]\n",
    "    cv2.imwrite(f'stitching_undistorted/{img_name}', und_image)\n",
    "    cv2.imshow('Obrazki', und_image)\n",
    "    cv2.waitKey(500)\n",
    "    cv2.destroyAllWindows()"
   ]
  },
  {
   "cell_type": "markdown",
   "metadata": {},
   "source": [
    "## Task 2"
   ]
  },
  {
   "cell_type": "code",
   "execution_count": null,
   "metadata": {},
   "outputs": [
    {
     "data": {
      "image/png": "[encoded data removed]",
      "text/plain": [
       "<Figure size 640x480 with 2 Axes>"
      ]
     },
     "metadata": {},
     "output_type": "display_data"
    }
   ],
   "source": [
    "def apply_projective_transform(image, H, output_size, visualize=False):\n",
    "    \"\"\"\n",
    "    Apply a projective transformation to the image using a homography matrix H.\n",
    "    Args:\n",
    "        image: Input image as a NumPy array.\n",
    "        H: 3x3 projective transformation matrix.\n",
    "        output_size: Tuple (width, height) of the output image.\n",
    "    Returns:\n",
    "        Transformed image.\n",
    "    \"\"\"\n",
    "    H_inv = np.linalg.inv(H) \n",
    "    \n",
    "    transformed_image = np.zeros((output_size[1], output_size[0], 3), dtype=image.dtype)\n",
    "    \n",
    "    for y in range(output_size[1]):\n",
    "        for x in range(output_size[0]):\n",
    "            \n",
    "            dest_coord = np.array([x, y, 1])\n",
    "            \n",
    "            source_coord = H_inv @ dest_coord\n",
    "            source_x, source_y = source_coord[:2] / source_coord[2]\n",
    "            \n",
    "            source_x = int(round(source_x))\n",
    "            source_y = int(round(source_y))\n",
    "            \n",
    "            if 0 <= source_x < image.shape[1] and 0 <= source_y < image.shape[0]:\n",
    "                transformed_image[y, x] = image[source_y, source_x]\n",
    "    if visualize:\n",
    "        image_small = cv2.resize(image, (0, 0), None, 0.5, 0.5)\n",
    "        transformed_image_small = cv2.resize(transformed_image, (0, 0), None, 0.5, 0.5)\n",
    "        imstack = np.hstack([image_small, transformed_image_small])\n",
    "        cv2.imshow('Obrazki', imstack)\n",
    "        cv2.waitKey(500)\n",
    "        cv2.destroyAllWindows()\n",
    "        \n",
    "    return transformed_image\n",
    "\n",
    "image = cv2.imread(images[0])\n",
    "\n",
    "H = np.array([\n",
    "    [0, 1, 0],\n",
    "    [1, 0, 0],\n",
    "    [0, 0, 1]\n",
    "])\n",
    "\n",
    "output_size = (image.shape[1], image.shape[0])  \n",
    "\n",
    "transformed_image = apply_projective_transform(image, H, output_size)\n",
    "\n",
    "plt.subplot(1, 2, 1)\n",
    "plt.title(\"Original Image\")\n",
    "plt.imshow(cv2.cvtColor(image, cv2.COLOR_BGR2RGB))\n",
    "plt.axis(\"off\")\n",
    "\n",
    "plt.subplot(1, 2, 2)\n",
    "plt.title(\"Transformed Image\")\n",
    "plt.imshow(cv2.cvtColor(transformed_image, cv2.COLOR_BGR2RGB))\n",
    "plt.axis(\"off\")\n",
    "\n",
    "plt.show()\n"
   ]
  },
  {
   "cell_type": "markdown",
   "metadata": {},
   "source": [
    "## Task 3"
   ]
  },
  {
   "cell_type": "code",
   "execution_count": 18,
   "metadata": {},
   "outputs": [
    {
     "name": "stdout",
     "output_type": "stream",
     "text": [
      "All tests passed!\n"
     ]
    }
   ],
   "source": [
    "def compute_homography(points_src, points_dst):\n",
    "    \"\"\"\n",
    "    Find the homography that maps points_src to points_dst.\n",
    "    \"\"\"\n",
    "    num_points = points_src.shape[0]\n",
    "\n",
    "    assert num_points == points_dst.shape[0], \"Number of source not equal to the destination\"\n",
    "    assert  num_points >= 4, \"At least 4 points are required.\"\n",
    "    \n",
    "    A = []\n",
    "    for i in range(num_points):\n",
    "        x, y = points_src[i]\n",
    "        u, v = points_dst[i]\n",
    "        \n",
    "        A.append([-x, -y, -1, 0, 0, 0, u * x, u * y, u])\n",
    "        A.append([0, 0, 0, -x, -y, -1, v * x, v * y, v])\n",
    "    \n",
    "    A = np.array(A)\n",
    "    \n",
    "    _, _, V = np.linalg.svd(A)\n",
    "    \n",
    "    H = V[-1, :].reshape(3, 3)\n",
    "    \n",
    "    return H / H[2, 2]\n",
    "\n",
    "def test_homography():\n",
    "    for _ in range(10):\n",
    "        H_true = np.random.rand(3, 3)\n",
    "        H_true[2, 2] = 1\n",
    "        \n",
    "        num_points = 8\n",
    "        points_src = np.random.rand(num_points, 2) * 100\n",
    "        points_src_homogeneous = np.hstack([points_src, np.ones((num_points, 1))])\n",
    "        \n",
    "        points_dst_homogeneous = (H_true @ points_src_homogeneous.T).T\n",
    "        points_dst = points_dst_homogeneous[:, :2] / points_dst_homogeneous[:, [2]]\n",
    "        \n",
    "        H_estimated = compute_homography(points_src, points_dst)\n",
    "        \n",
    "        H_true /= H_true[2, 2]\n",
    "        H_estimated /= H_estimated[2, 2]\n",
    "        \n",
    "        assert np.allclose(H_true, H_estimated, atol=1e-6), \"Homography estimation failed!\"\n",
    "    \n",
    "    print(\"All tests passed!\")\n",
    "\n",
    "test_homography()\n"
   ]
  },
  {
   "cell_type": "markdown",
   "metadata": {},
   "source": [
    "## Task 4"
   ]
  },
  {
   "cell_type": "code",
   "execution_count": 46,
   "metadata": {},
   "outputs": [],
   "source": [
    "def get_homography(img_1, img_2, conf=0.95):\n",
    "    matches = np.load(f'matches/img{img_1}_img{img_2}_matches.npz')\n",
    "\n",
    "    points_src = matches['keypoints0']\n",
    "    points_dst = matches['keypoints1']\n",
    "    mapping = matches['matches']\n",
    "    confidence = matches['match_confidence']\n",
    "    matches = output_array = np.full((len(mapping), points_dst.shape[1]), -1)\n",
    "\n",
    "    valid_indices = (mapping != -1) & (confidence > conf)\n",
    "    matches[valid_indices] = points_dst[mapping[valid_indices]]\n",
    "\n",
    "    filtered_points_src = points_src[np.any(output_array != -1, axis=1)]\n",
    "    filtered_points_dst = output_array[np.any(output_array != -1, axis=1)]\n",
    "\n",
    "    H = compute_homography(filtered_points_src, filtered_points_dst)\n",
    "    return H\n",
    "\n",
    "def get_panorama(img_1, img_2, H, add_img_1=True):\n",
    "    # dst = cv2.warpPerspective(img_2, H, ((img_1.shape[1] + img_2.shape[1]), img_1.shape[0] + img_2.shape[0]))\n",
    "    dst = apply_projective_transform(img_2, H, ((img_1.shape[1] + img_2.shape[1]), img_1.shape[0] + img_2.shape[0]))\n",
    "    if add_img_1==True:\n",
    "        dst[0:img_1.shape[0], 0:img_1.shape[1]] = img_1\n",
    "\n",
    "    max_h = np.max(np.where(dst != 0)[0])\n",
    "    max_w = np.max(np.where(dst != 0)[1])\n",
    "    dst = dst[:max_h, :max_w, :]\n",
    "    \n",
    "    return dst"
   ]
  },
  {
   "cell_type": "code",
   "execution_count": 47,
   "metadata": {},
   "outputs": [],
   "source": [
    "img1_nr = 5\n",
    "img2_nr = 6"
   ]
  },
  {
   "cell_type": "code",
   "execution_count": 48,
   "metadata": {},
   "outputs": [],
   "source": [
    "img1_points = np.array([\n",
    "    [989,454], #left upper corner white\n",
    "    [1052,405], #left lower corner white\n",
    "    [1076,434], #right upper corner white\n",
    "    [1012,485], #right lower corner white\n",
    "    [486,264], #left upper corner purple\n",
    "    [514,250], #left lower corner purple\n",
    "    [534,280], #right upper corner purple\n",
    "    [507,295], #right lower corner purple\n",
    "])\n",
    "\n",
    "img2_points = np.array([\n",
    "    [1100,463], #left upper corner white\n",
    "    [1171,411], #left lower corner white\n",
    "    [1200,444], #right upper corner white\n",
    "    [1127,496], #right lower corner white\n",
    "    [587,272], #left upper corner purple\n",
    "    [609,257], #left lower corner purple\n",
    "    [630,287], #right upper corner purple\n",
    "    [605,301], #right lower corner purple\n",
    "])"
   ]
  },
  {
   "cell_type": "code",
   "execution_count": 49,
   "metadata": {},
   "outputs": [
    {
     "data": {
      "text/plain": [
       "True"
      ]
     },
     "execution_count": 49,
     "metadata": {},
     "output_type": "execute_result"
    }
   ],
   "source": [
    "img_1 = cv2.imread(f'stitching_undistorted/img{img2_nr}.png')\n",
    "img_2 = cv2.imread(f'stitching_undistorted/img{img1_nr}.png')\n",
    "\n",
    "H = compute_homography(img1_points, img2_points)\n",
    "img = get_panorama(img_1, img_2, H)\n",
    "\n",
    "# cv2.imshow('Hand-made stitch', img)\n",
    "# cv2.waitKey(5000)\n",
    "# cv2.destroyAllWindows()\n",
    "cv2.imwrite(f'hand_stitched_{img1_nr}{img2_nr}.png', img)"
   ]
  },
  {
   "cell_type": "markdown",
   "metadata": {},
   "source": [
    "## Task 5"
   ]
  },
  {
   "cell_type": "code",
   "execution_count": 50,
   "metadata": {},
   "outputs": [],
   "source": [
    "def crop_img(img):\n",
    "    max_w = np.max(np.where(img != 0)[1])\n",
    "    return img[:, :max_w, :]"
   ]
  },
  {
   "cell_type": "code",
   "execution_count": 51,
   "metadata": {},
   "outputs": [],
   "source": [
    "img1_nr = 7\n",
    "img2_nr = 8\n",
    "\n",
    "img_1 = cv2.imread(f'stitching_undistorted/img{img2_nr}.png')\n",
    "img_2 = cv2.imread(f'stitching_undistorted/img{img1_nr}.png')\n",
    "\n",
    "H = get_homography(img1_nr, img2_nr)\n",
    "img_2 = get_panorama(img_1, img_2, H, False)"
   ]
  },
  {
   "cell_type": "code",
   "execution_count": 52,
   "metadata": {},
   "outputs": [],
   "source": [
    "h, w, _ = img_1.shape"
   ]
  },
  {
   "cell_type": "code",
   "execution_count": 38,
   "metadata": {},
   "outputs": [],
   "source": [
    "def col_diff(a, b):\n",
    "    diff = np.abs(a - b)\n",
    "    diff = (np.array([0.3, 0.59, 0.11]) * diff)\n",
    "    diff = np.square(diff.sum())\n",
    "    return diff"
   ]
  },
  {
   "cell_type": "code",
   "execution_count": 39,
   "metadata": {},
   "outputs": [],
   "source": [
    "diffs = np.zeros((h, w))\n",
    "\n",
    "for i in range(h):\n",
    "    for j in range(w):\n",
    "        if i == 0:\n",
    "            diffs[i, j] = col_diff(img_1[i, j], img_2[i, j])\n",
    "        elif j == 0:\n",
    "            diffs[i, j] = 1e10\n",
    "        elif img_2[i, j].max() == 0: #black spot\n",
    "            diffs[i, j] = 1e10\n",
    "        else:\n",
    "            col_difference = col_diff(img_1[i, j], img_2[i, j])\n",
    "            diffs[i, j] = np.min([diffs[i-1, j-1], diffs[i-1, j], diffs[i-1, j]])\n",
    "            diffs[i, j] += col_difference"
   ]
  },
  {
   "cell_type": "code",
   "execution_count": 40,
   "metadata": {},
   "outputs": [
    {
     "data": {
      "text/plain": [
       "True"
      ]
     },
     "execution_count": 40,
     "metadata": {},
     "output_type": "execute_result"
    }
   ],
   "source": [
    "joined_img = img_2.copy()\n",
    "\n",
    "current_w = diffs[-1, :].argmin()\n",
    "current_w\n",
    "\n",
    "seam = np.array([h-1, current_w])\n",
    "\n",
    "joined_img[h-1, :current_w, :] = img_1[h-1, :current_w, :] #left picture\n",
    "joined_img[h-1, current_w, :] = [255, 255, 255] #seam\n",
    "\n",
    "for i in range(h-2, -1, -1):\n",
    "    current_w += diffs[i, (current_w-1):(current_w+2)].argmin() - 1\n",
    "    seam = np.append(seam, [i, current_w])\n",
    "    joined_img[i, :current_w, :] = img_1[i, :current_w, :] #left picture\n",
    "    joined_img[i, current_w, :] = [255, 255, 255] #seam\n",
    "\n",
    "seam = seam.reshape(-1, 2)\n",
    "\n",
    "\n",
    "joined_img = crop_img(joined_img)\n",
    "cv2.imshow('I am a programmer', joined_img)\n",
    "cv2.waitKey(5000)\n",
    "cv2.destroyAllWindows()\n",
    "cv2.imwrite(f'best_seam_{img1_nr}{img2_nr}.png', joined_img)"
   ]
  },
  {
   "cell_type": "markdown",
   "metadata": {},
   "source": [
    "## Task 6"
   ]
  },
  {
   "cell_type": "code",
   "execution_count": 53,
   "metadata": {},
   "outputs": [],
   "source": [
    "img1_nr = 7\n",
    "img2_nr = 8"
   ]
  },
  {
   "cell_type": "code",
   "execution_count": 54,
   "metadata": {},
   "outputs": [
    {
     "data": {
      "text/plain": [
       "True"
      ]
     },
     "execution_count": 54,
     "metadata": {},
     "output_type": "execute_result"
    }
   ],
   "source": [
    "H = get_homography(img1_nr, img2_nr)\n",
    "\n",
    "img_1 = cv2.imread(f'stitching_undistorted/img{img2_nr}.png')\n",
    "img_2 = cv2.imread(f'stitching_undistorted/img{img1_nr}.png')\n",
    "H = get_homography(img1_nr, img2_nr)\n",
    "\n",
    "dst = get_panorama(img_1, img_2, H)\n",
    "\n",
    "dst = crop_img(dst)\n",
    "\n",
    "img_show = cv2.resize(dst, (0, 0), None, 0.5, 0.5)\n",
    "cv2.imshow(f'stitched_image_{img1_nr}{img2_nr}.png', img_show)\n",
    "cv2.waitKey(3000)\n",
    "cv2.destroyAllWindows()\n",
    "\n",
    "cv2.imwrite(f'stitched_image_{img1_nr}{img2_nr}.png', dst)"
   ]
  },
  {
   "cell_type": "markdown",
   "metadata": {},
   "source": [
    "## Task 7"
   ]
  },
  {
   "cell_type": "code",
   "execution_count": 73,
   "metadata": {},
   "outputs": [
    {
     "data": {
      "text/plain": [
       "True"
      ]
     },
     "execution_count": 73,
     "metadata": {},
     "output_type": "execute_result"
    }
   ],
   "source": [
    "img = cv2.imread('stitching_undistorted/img4.png')\n",
    "\n",
    "height, width = img.shape[:2]\n",
    "total_width = width\n",
    "\n",
    "for i in range(4, 9):\n",
    "    H = get_homography(i, i+1)\n",
    "    new_img = cv2.imread(f'stitching_undistorted/img{i+1}.png')\n",
    "\n",
    "    img = get_panorama(new_img, img, H)\n",
    "    \n",
    "img = crop_img(img)\n",
    "cv2.imshow(f'Panorama', img)\n",
    "cv2.waitKey(5000)\n",
    "cv2.destroyAllWindows()\n",
    "cv2.imwrite('panorama.png', img)"
   ]
  },
  {
   "cell_type": "code",
   "execution_count": null,
   "metadata": {},
   "outputs": [],
   "source": []
  }
 ],
 "metadata": {
  "kernelspec": {
   "display_name": "Python 3",
   "language": "python",
   "name": "python3"
  },
  "language_info": {
   "codemirror_mode": {
    "name": "ipython",
    "version": 3
   },
   "file_extension": ".py",
   "mimetype": "text/x-python",
   "name": "python",
   "nbconvert_exporter": "python",
   "pygments_lexer": "ipython3",
   "version": "3.13.0"
  }
 },
 "nbformat": 4,
 "nbformat_minor": 2
}
